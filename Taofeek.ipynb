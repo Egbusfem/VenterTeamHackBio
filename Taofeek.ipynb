{
  "nbformat": 4,
  "nbformat_minor": 0,
  "metadata": {
    "colab": {
      "name": "Untitled0.ipynb",
      "provenance": [],
      "authorship_tag": "ABX9TyNlIy5uyQPDU70XSJxn3Vja",
      "include_colab_link": true
    },
    "kernelspec": {
      "name": "python3",
      "display_name": "Python 3"
    },
    "language_info": {
      "name": "python"
    }
  },
  "cells": [
    {
      "cell_type": "markdown",
      "metadata": {
        "id": "view-in-github",
        "colab_type": "text"
      },
      "source": [
        "<a href=\"https://colab.research.google.com/github/Egbusfem/VenterTeamHackBio/blob/deen/Taofeek.ipynb\" target=\"_parent\"><img src=\"https://colab.research.google.com/assets/colab-badge.svg\" alt=\"Open In Colab\"/></a>"
      ]
    },
    {
      "cell_type": "code",
      "metadata": {
        "colab": {
          "base_uri": "https://localhost:8080/"
        },
        "id": "hPNbu3YNqJxM",
        "outputId": "77747a35-5674-47cf-d436-62a5d20f6f2b"
      },
      "source": [
        "def hamming_distance(myusername, mytwitter_handle):\n",
        "    # Start with a distance of zero, and count up\n",
        "    distance = 0\n",
        "    # Loop over the indices of the string\n",
        "    L = len(myusername)\n",
        "    for i in range(L):\n",
        "        # Add 1 to the distance if these two characters are not equal\n",
        "        if myusername[i] != mytwitter_handle[i]:\n",
        "            distance += 1\n",
        "    # Return the final count of differences\n",
        "    return distance\n",
        "\n",
        "\n",
        "\n",
        "\n",
        "\n",
        "\n",
        "\n",
        "\n",
        "def personal_details():\n",
        " name, email,slackusername,biostack,twitter_handle, = \"Taofeek\",\"tola.taofeek@gmail.com\",\"@taophic1\",\"drug developement and genomics\",\"@taophic1\"\n",
        "\n",
        " example_dist = hamming_distance(\"@taophic1\", \"@taophic1\")\n",
        "\n",
        " print(example_dist)\n",
        " print(\"name: {}\\nemail: {}\\nslack_username: {}\\nbiostack: {}\\ntwitter_handle:{}\\nhamming_distance:{}\".format(name, email, slackusername,biostack,twitter_handle,example_dist))\n",
        "\n",
        "\n",
        "personal_details()"
      ],
      "execution_count": 2,
      "outputs": [
        {
          "output_type": "stream",
          "text": [
            "0\n",
            "name: Taofeek\n",
            "email: tola.taofeek@gmail.com\n",
            "slack_username: @taophic1\n",
            "biostack: drug developement and genomics\n",
            "twitter_handle:@taophic1\n",
            "hamming_distance:0\n"
          ],
          "name": "stdout"
        }
      ]
    },
    {
      "cell_type": "code",
      "metadata": {
        "id": "mVM0H2_Aqr5N"
      },
      "source": [
        ""
      ],
      "execution_count": null,
      "outputs": []
    }
  ]
}